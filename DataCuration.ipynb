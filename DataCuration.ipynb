{
 "cells": [
  {
   "cell_type": "markdown",
   "id": "2ff83b84",
   "metadata": {},
   "source": [
    "## Step 1: Analyze the data"
   ]
  },
  {
   "cell_type": "code",
   "execution_count": null,
   "id": "7bd8c801",
   "metadata": {},
   "outputs": [],
   "source": []
  },
  {
   "cell_type": "markdown",
   "id": "bc56b02b",
   "metadata": {},
   "source": [
    "## Step 2: Choose how to preprocess the data"
   ]
  },
  {
   "cell_type": "code",
   "execution_count": null,
   "id": "60f88e90",
   "metadata": {},
   "outputs": [],
   "source": [
"#Choosing the preprocessing method for each data type.
preproc = [PREP_DROP,   # Timestamp, this will not be used when training the model
           PREP_NORM,   # Temperature
           PREP_NORM,   # Humidity
           PREP_DROP,   # Pressure, this remains consistent throughout all tests
           PREP_NORM,   # CO2
           PREP_NORM,   # VOC1
           PREP_NORM,   # VOC2
           PREP_NORM,   # NO2
           PREP_NORM,   # Ethanol
           PREP_NORM]   # CO
#the rest are normalization since there is no Gaussian distribution

# Check to make sure we have the correct number of preprocessing request elements
assert(len(preproc) == len(header))
assert(len(preproc) == raw_data.shape[1])"

   ]
  },
  {
   "cell_type": "markdown",
   "id": "fe7a8347",
   "metadata": {},
   "source": [
    "## Step 3: Perform data preprocessing"
   ]
  },
  {
   "cell_type": "code",
   "execution_count": null,
   "id": "12d0859a",
   "metadata": {},
   "outputs": [],
   "source": []
  },
  {
   "cell_type": "markdown",
   "id": "da1f3691",
   "metadata": {},
   "source": [
    "## Step 4: Analyze newly preprocessed data"
   ]
  },
  {
   "cell_type": "code",
   "execution_count": null,
   "id": "1cf4bd8e",
   "metadata": {},
   "outputs": [],
   "source": []
  },
  {
   "cell_type": "markdown",
   "id": "cbfca3f0",
   "metadata": {},
   "source": [
    "## Step 5: Store preprocessed data in CSV files"
   ]
  },
  {
   "cell_type": "code",
   "execution_count": null,
   "id": "65c22836",
   "metadata": {},
   "outputs": [],
   "source": []
  }
 ],
 "metadata": {
  "kernelspec": {
   "display_name": "ml",
   "language": "python",
   "name": "python3"
  },
  "language_info": {
   "name": "python",
   "version": "3.10.13"
  }
 },
 "nbformat": 4,
 "nbformat_minor": 5
}
